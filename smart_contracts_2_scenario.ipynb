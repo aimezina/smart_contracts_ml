{
 "cells": [
  {
   "cell_type": "code",
   "execution_count": 1,
   "metadata": {
    "collapsed": true
   },
   "outputs": [],
   "source": [
    "import numpy as np\n",
    "import pandas as pd\n",
    "import random\n",
    "import os\n",
    "import matplotlib.pyplot as plt\n",
    "\n",
    "import tensorflow as tf\n",
    "import keras\n",
    "from tensorflow.python.keras.layers import Dense, Embedding, LSTM, SpatialDropout1D\n",
    "from tensorflow.python.keras.models import Sequential\n",
    "from sklearn.feature_extraction.text import CountVectorizer\n",
    "from keras.preprocessing.text import Tokenizer\n",
    "from keras_preprocessing.sequence import pad_sequences\n",
    "from sklearn.model_selection import train_test_split\n",
    "from tensorflow.python.keras.utils.np_utils import to_categorical\n",
    "from tensorflow.python.keras.callbacks import EarlyStopping\n",
    "from imblearn.over_sampling import SMOTE\n",
    "\n",
    "seed = 1\n",
    "# # 1. Set the `PYTHONHASHSEED` environment variable at a fixed value\n",
    "os.environ['PYTHONHASHSEED'] = str(seed)\n",
    "random.seed(seed)\n",
    "tf.random.set_seed(seed)\n",
    "np.random.seed(seed)"
   ]
  },
  {
   "cell_type": "code",
   "execution_count": 2,
   "metadata": {},
   "outputs": [],
   "source": [
    "df = pd.read_csv(\"clean_train.csv\")"
   ]
  },
  {
   "cell_type": "code",
   "execution_count": 3,
   "metadata": {},
   "outputs": [],
   "source": [
    "def label(df):\n",
    "    # label data\n",
    "    df['LABEL'] = 0\n",
    "    df.loc[df['CATEGORY'] == '1 0 0 0', 'LABEL'] = 0\n",
    "    df.loc[df['CATEGORY'] == '0 1 0 0', 'LABEL'] = 1\n",
    "    df.loc[df['CATEGORY'] == '0 0 1 0', 'LABEL'] = 2\n",
    "    df.loc[df['CATEGORY'] == '0 0 0 1', 'LABEL'] = 3\n",
    "    df.loc[df['CATEGORY'] == '0 1 1 0', 'LABEL'] = 4\n",
    "\n",
    "\n",
    "def preprocess(df):\n",
    "    n_most_common_words = 1600\n",
    "    max_len = 100  #the length of opcode\n",
    "\n",
    "    tokenizer = tf.keras.preprocessing.text.Tokenizer(num_words=n_most_common_words, lower=False)\n",
    "\n",
    "    # tokenizer.fit_on_texts(increased_vul['OPCODE'].values)\n",
    "    tokenizer.fit_on_texts(df['OPCODE'].values)\n",
    "    sequences = tokenizer.texts_to_sequences(df['OPCODE'].values)\n",
    "    word_index = tokenizer.word_index\n",
    "    print('Found %s unique tokens.' % len(word_index))\n",
    "    X = tf.keras.utils.pad_sequences(sequences, maxlen=max_len)\n",
    "    return X\n",
    "\n",
    "\n",
    "def dftoXY(df):\n",
    "    X_test = preprocess(df)\n",
    "    label(df)\n",
    "    print(pd.value_counts(df['LABEL']))\n",
    "    y_test = tf.keras.utils.to_categorical(df['LABEL'], num_classes=5)\n",
    "    return X_test, y_test\n",
    "\n",
    "\n",
    "def XandY(sp_df, g_df, p_df, s_df, n_df):\n",
    "    dfset = pd.concat([sp_df, g_df, p_df, s_df, n_df])\n",
    "    dfset = dfset.sample(frac=1, random_state=39, replace=False)\n",
    "\n",
    "    dfset['LABEL'] = 0\n",
    "\n",
    "    dfset.loc[dfset['CATEGORY'] == '1 0 0 0', 'LABEL'] = 0\n",
    "    dfset.loc[dfset['CATEGORY'] == '0 1 0 0', 'LABEL'] = 1\n",
    "    dfset.loc[dfset['CATEGORY'] == '0 0 1 0', 'LABEL'] = 2\n",
    "    dfset.loc[dfset['CATEGORY'] == '0 0 0 1', 'LABEL'] = 3\n",
    "    dfset.loc[dfset['CATEGORY'] == '0 1 1 0', 'LABEL'] = 4\n",
    "\n",
    "    X, y = dftoXY(dfset)\n",
    "\n",
    "    print('Shape of X: {}'.format(X.shape))\n",
    "\n",
    "    y_labels = np.expand_dims(np.array(np.argmax(y, axis=1)), axis=1)\n",
    "    print('Shape of y: {}'.format(y_labels.shape))\n",
    "\n",
    "    return X, y_labels"
   ]
  },
  {
   "cell_type": "code",
   "execution_count": 4,
   "metadata": {},
   "outputs": [
    {
     "data": {
      "text/plain": "1 0 0 0    884273\n0 0 0 1      5801\n0 0 1 0      1461\n0 1 0 0      1207\n0 1 1 0       171\nName: CATEGORY, dtype: int64"
     },
     "execution_count": 4,
     "metadata": {},
     "output_type": "execute_result"
    }
   ],
   "source": [
    "data = df\n",
    "pd.value_counts(data['CATEGORY'])"
   ]
  },
  {
   "cell_type": "code",
   "execution_count": 5,
   "metadata": {},
   "outputs": [
    {
     "data": {
      "text/plain": "                                      ADDRESS  \\\n0  0x219f4ee903f78e78773e5d1e3520cfd507485bc6   \n1  0x560ed796aa8d23411b94b9d047ecdda39d4fcdeb   \n2  0xe726f97ff3c63dd71c1520c102adc39d1a2693ea   \n3  0x8ebac490495958b3804bb079e259340f0f53b69c   \n4  0x190700d69031db6b072a30577f9b3dbc53a320a1   \n\n                                              OPCODE CATEGORY  \n0  60 60 52 36 15 61 57 60 35 7c 90 04 63 16 80 6...   normal  \n1  60 60 52 36 15 61 57 60 35 7c 90 04 63 16 80 6...   normal  \n2  60 60 52 36 15 61 57 60 35 7c 90 04 63 16 80 6...   normal  \n3  60 60 52 36 15 61 57 60 35 7c 90 04 63 16 80 6...   normal  \n4  60 60 52 36 15 61 57 60 35 7c 90 04 63 16 80 6...   normal  ",
      "text/html": "<div>\n<style scoped>\n    .dataframe tbody tr th:only-of-type {\n        vertical-align: middle;\n    }\n\n    .dataframe tbody tr th {\n        vertical-align: top;\n    }\n\n    .dataframe thead th {\n        text-align: right;\n    }\n</style>\n<table border=\"1\" class=\"dataframe\">\n  <thead>\n    <tr style=\"text-align: right;\">\n      <th></th>\n      <th>ADDRESS</th>\n      <th>OPCODE</th>\n      <th>CATEGORY</th>\n    </tr>\n  </thead>\n  <tbody>\n    <tr>\n      <th>0</th>\n      <td>0x219f4ee903f78e78773e5d1e3520cfd507485bc6</td>\n      <td>60 60 52 36 15 61 57 60 35 7c 90 04 63 16 80 6...</td>\n      <td>normal</td>\n    </tr>\n    <tr>\n      <th>1</th>\n      <td>0x560ed796aa8d23411b94b9d047ecdda39d4fcdeb</td>\n      <td>60 60 52 36 15 61 57 60 35 7c 90 04 63 16 80 6...</td>\n      <td>normal</td>\n    </tr>\n    <tr>\n      <th>2</th>\n      <td>0xe726f97ff3c63dd71c1520c102adc39d1a2693ea</td>\n      <td>60 60 52 36 15 61 57 60 35 7c 90 04 63 16 80 6...</td>\n      <td>normal</td>\n    </tr>\n    <tr>\n      <th>3</th>\n      <td>0x8ebac490495958b3804bb079e259340f0f53b69c</td>\n      <td>60 60 52 36 15 61 57 60 35 7c 90 04 63 16 80 6...</td>\n      <td>normal</td>\n    </tr>\n    <tr>\n      <th>4</th>\n      <td>0x190700d69031db6b072a30577f9b3dbc53a320a1</td>\n      <td>60 60 52 36 15 61 57 60 35 7c 90 04 63 16 80 6...</td>\n      <td>normal</td>\n    </tr>\n  </tbody>\n</table>\n</div>"
     },
     "execution_count": 5,
     "metadata": {},
     "output_type": "execute_result"
    }
   ],
   "source": [
    "data_plots = data\n",
    "data_plots = data_plots.replace({'CATEGORY': {'1 0 0 0': 'normal', '0 1 0 0': 'suicidal', '0 0 1 0': 'prodigal',\n",
    "                                              '0 0 0 1': 'greedy', '0 1 1 0': 'suicidal and prodigal'}})\n",
    "data_plots.head()"
   ]
  },
  {
   "cell_type": "code",
   "execution_count": 6,
   "metadata": {},
   "outputs": [],
   "source": [
    "shuffled = data\n",
    "\n",
    "# shuffled = data\n",
    "n = shuffled[shuffled['CATEGORY'] == '1 0 0 0']  # no vulnerabilities\n",
    "s = shuffled[shuffled['CATEGORY'] == '0 1 0 0']  # suicidal\n",
    "p = shuffled[shuffled['CATEGORY'] == '0 0 1 0']  # prodigal\n",
    "g = shuffled[shuffled['CATEGORY'] == '0 0 0 1']  # greedy\n",
    "sp = shuffled[shuffled['CATEGORY'] == '0 1 1 0']  # suicidal and prodigal"
   ]
  },
  {
   "cell_type": "code",
   "execution_count": 7,
   "metadata": {},
   "outputs": [
    {
     "name": "stdout",
     "output_type": "stream",
     "text": [
      "Found 150 unique tokens.\n",
      "0    10000\n",
      "3     4061\n",
      "2     1023\n",
      "1      845\n",
      "4      120\n",
      "Name: LABEL, dtype: int64\n"
     ]
    },
    {
     "data": {
      "text/plain": "                                           ADDRESS  \\\n715961  0x47de7ffe3326563d3fa6b62ea80cfcc3994b384e   \n448833  0x3d4329d6fc242db50bb615f761205c2ee9d736dd   \n614956  0xcf561870a989d3a91d4e7a4d737c9a2ed743a918   \n435752  0x88b377f0a074e61fbf2e1ed87e96b1ac861dca69   \n489795  0xd949e0532ead676a75ab3745b8567f2736bc61ab   \n...                                            ...   \n743404  0x86d12281c3afe53ea62b4156d883673b29b62074   \n821450  0xd5ec1fb9571933913f4928e3e0a44127115742aa   \n35612   0xa9c5e05701211f5e93dba45f51636fdf338b083e   \n169135  0x504b30409026002780a587d481b85aaae05339c9   \n820574  0xf94e9f9657dcbbe991b175d8a0433cd20704093e   \n\n                                                   OPCODE CATEGORY  LABEL  \n715961  60 60 52 60 35 7c 90 04 80 63 14 61 57 80 63 1...  0 0 0 1      3  \n448833  60 60 52 36 15 61 57 60 35 7c 90 04 63 16 80 6...  1 0 0 0      0  \n614956  60 60 52 60 60 0a 60 35 04 63 81 14 60 57 5b 6...  1 0 0 0      0  \n435752    60 60 52 36 15 60 57 60 56 5b 60 5b 5b 56 5b 00  0 0 0 1      3  \n489795  60 60 52 60 60 0a 60 35 04 63 81 14 60 57 5b 6...  1 0 0 0      0  \n...                                                   ...      ...    ...  \n743404  60 60 52 36 15 61 57 60 35 7c 90 04 63 16 80 6...  1 0 0 0      0  \n821450  60 60 52 63 7c 60 35 04 16 63 81 14 61 57 80 6...  1 0 0 0      0  \n35612   60 60 52 36 15 61 57 60 35 7c 90 04 63 16 80 6...  1 0 0 0      0  \n169135  60 60 52 36 15 61 57 60 35 7c 90 04 63 16 80 6...  1 0 0 0      0  \n820574  60 60 52 60 35 7c 90 04 80 63 14 61 57 80 63 1...  0 0 0 1      3  \n\n[16049 rows x 4 columns]",
      "text/html": "<div>\n<style scoped>\n    .dataframe tbody tr th:only-of-type {\n        vertical-align: middle;\n    }\n\n    .dataframe tbody tr th {\n        vertical-align: top;\n    }\n\n    .dataframe thead th {\n        text-align: right;\n    }\n</style>\n<table border=\"1\" class=\"dataframe\">\n  <thead>\n    <tr style=\"text-align: right;\">\n      <th></th>\n      <th>ADDRESS</th>\n      <th>OPCODE</th>\n      <th>CATEGORY</th>\n      <th>LABEL</th>\n    </tr>\n  </thead>\n  <tbody>\n    <tr>\n      <th>715961</th>\n      <td>0x47de7ffe3326563d3fa6b62ea80cfcc3994b384e</td>\n      <td>60 60 52 60 35 7c 90 04 80 63 14 61 57 80 63 1...</td>\n      <td>0 0 0 1</td>\n      <td>3</td>\n    </tr>\n    <tr>\n      <th>448833</th>\n      <td>0x3d4329d6fc242db50bb615f761205c2ee9d736dd</td>\n      <td>60 60 52 36 15 61 57 60 35 7c 90 04 63 16 80 6...</td>\n      <td>1 0 0 0</td>\n      <td>0</td>\n    </tr>\n    <tr>\n      <th>614956</th>\n      <td>0xcf561870a989d3a91d4e7a4d737c9a2ed743a918</td>\n      <td>60 60 52 60 60 0a 60 35 04 63 81 14 60 57 5b 6...</td>\n      <td>1 0 0 0</td>\n      <td>0</td>\n    </tr>\n    <tr>\n      <th>435752</th>\n      <td>0x88b377f0a074e61fbf2e1ed87e96b1ac861dca69</td>\n      <td>60 60 52 36 15 60 57 60 56 5b 60 5b 5b 56 5b 00</td>\n      <td>0 0 0 1</td>\n      <td>3</td>\n    </tr>\n    <tr>\n      <th>489795</th>\n      <td>0xd949e0532ead676a75ab3745b8567f2736bc61ab</td>\n      <td>60 60 52 60 60 0a 60 35 04 63 81 14 60 57 5b 6...</td>\n      <td>1 0 0 0</td>\n      <td>0</td>\n    </tr>\n    <tr>\n      <th>...</th>\n      <td>...</td>\n      <td>...</td>\n      <td>...</td>\n      <td>...</td>\n    </tr>\n    <tr>\n      <th>743404</th>\n      <td>0x86d12281c3afe53ea62b4156d883673b29b62074</td>\n      <td>60 60 52 36 15 61 57 60 35 7c 90 04 63 16 80 6...</td>\n      <td>1 0 0 0</td>\n      <td>0</td>\n    </tr>\n    <tr>\n      <th>821450</th>\n      <td>0xd5ec1fb9571933913f4928e3e0a44127115742aa</td>\n      <td>60 60 52 63 7c 60 35 04 16 63 81 14 61 57 80 6...</td>\n      <td>1 0 0 0</td>\n      <td>0</td>\n    </tr>\n    <tr>\n      <th>35612</th>\n      <td>0xa9c5e05701211f5e93dba45f51636fdf338b083e</td>\n      <td>60 60 52 36 15 61 57 60 35 7c 90 04 63 16 80 6...</td>\n      <td>1 0 0 0</td>\n      <td>0</td>\n    </tr>\n    <tr>\n      <th>169135</th>\n      <td>0x504b30409026002780a587d481b85aaae05339c9</td>\n      <td>60 60 52 36 15 61 57 60 35 7c 90 04 63 16 80 6...</td>\n      <td>1 0 0 0</td>\n      <td>0</td>\n    </tr>\n    <tr>\n      <th>820574</th>\n      <td>0xf94e9f9657dcbbe991b175d8a0433cd20704093e</td>\n      <td>60 60 52 60 35 7c 90 04 80 63 14 61 57 80 63 1...</td>\n      <td>0 0 0 1</td>\n      <td>3</td>\n    </tr>\n  </tbody>\n</table>\n<p>16049 rows × 4 columns</p>\n</div>"
     },
     "execution_count": 7,
     "metadata": {},
     "output_type": "execute_result"
    }
   ],
   "source": [
    "proportion_train = 0.7\n",
    "proportion_val = 0.1\n",
    "proportion_test = 0.2\n",
    "\n",
    "#n\n",
    "n_shuf = n.sample(frac=1, random_state=39, replace=False)\n",
    "# set number of samples in each set\n",
    "num_n_train = 10000\n",
    "num_n_val = round(((num_n_train) / proportion_train) * proportion_val)\n",
    "num_n_test = round(((num_n_train) / proportion_train) * proportion_test)\n",
    "n_train = n_shuf.iloc[0:num_n_train]\n",
    "n_val = n_shuf.iloc[num_n_train:(num_n_train + num_n_val)]\n",
    "n_test = n_shuf.iloc[(num_n_train + num_n_val):(num_n_train + num_n_val + num_n_test)]\n",
    "\n",
    "#s\n",
    "s_shuf = s.sample(frac=1, random_state=39, replace=False)\n",
    "num_s_train = round(len(s_shuf) * proportion_train)\n",
    "num_s_val = round(len(s_shuf) * proportion_val)\n",
    "s_train = s_shuf.iloc[0:num_s_train]\n",
    "s_val = s_shuf.iloc[num_s_train:(num_s_train + num_s_val)]\n",
    "s_test = s_shuf.iloc[(num_s_train + num_s_val):]\n",
    "\n",
    "#p\n",
    "p_shuf = p.sample(frac=1, random_state=39, replace=False)\n",
    "num_p_train = round(len(p_shuf) * proportion_train)\n",
    "num_p_val = round(len(p_shuf) * proportion_val)\n",
    "p_train = p_shuf.iloc[0:num_p_train]\n",
    "p_val = p_shuf.iloc[num_p_train:(num_p_train + num_p_val)]\n",
    "p_test = p_shuf.iloc[(num_p_train + num_p_val):]\n",
    "\n",
    "#g\n",
    "g_shuf = g.sample(frac=1, random_state=39, replace=False)\n",
    "num_g_train = round(len(g_shuf) * proportion_train)\n",
    "num_g_val = round(len(g_shuf) * proportion_val)\n",
    "g_train = g_shuf.iloc[0:num_g_train]\n",
    "g_val = g_shuf.iloc[num_g_train:(num_g_train + num_g_val)]\n",
    "g_test = g_shuf.iloc[(num_g_train + num_g_val):]\n",
    "\n",
    "#sp\n",
    "sp_shuf = sp.sample(frac=1, random_state=39, replace=False)\n",
    "num_sp_train = round(len(sp_shuf) * proportion_train)\n",
    "num_sp_val = round(len(sp_shuf) * proportion_val)\n",
    "sp_train = sp_shuf.iloc[0:num_sp_train]\n",
    "sp_val = sp_shuf.iloc[num_sp_train:(num_sp_train + num_sp_val)]\n",
    "sp_test = sp_shuf.iloc[(num_sp_train + num_sp_val):]\n",
    "#====train set\n",
    "df_train = pd.concat([sp_train, n_train, g_train, p_train, s_train])\n",
    "df_train = df_train.sample(frac=1, random_state=39, replace=False)\n",
    "df_train['LABEL'] = 0\n",
    "\n",
    "df_train['LABEL'] = 0\n",
    "\n",
    "#One-hot encode the lab\n",
    "df_train.loc[df_train['CATEGORY'] == '1 0 0 0', 'LABEL'] = 0\n",
    "df_train.loc[df_train['CATEGORY'] == '0 1 0 0', 'LABEL'] = 1\n",
    "df_train.loc[df_train['CATEGORY'] == '0 0 1 0', 'LABEL'] = 2\n",
    "df_train.loc[df_train['CATEGORY'] == '0 0 0 1', 'LABEL'] = 3\n",
    "df_train.loc[df_train['CATEGORY'] == '0 1 1 0', 'LABEL'] = 4\n",
    "\n",
    "X_train, y_train = dftoXY(df_train)\n",
    "df_train"
   ]
  },
  {
   "cell_type": "code",
   "execution_count": 8,
   "metadata": {},
   "outputs": [
    {
     "name": "stdout",
     "output_type": "stream",
     "text": [
      "Found 150 unique tokens.\n",
      "0    10000\n",
      "3     4061\n",
      "2     1023\n",
      "1      845\n",
      "4      120\n",
      "Name: LABEL, dtype: int64\n",
      "Shape of X: (16049, 100)\n",
      "Shape of y: (16049, 1)\n",
      "Found 150 unique tokens.\n",
      "0    1429\n",
      "3     580\n",
      "2     146\n",
      "1     121\n",
      "4      17\n",
      "Name: LABEL, dtype: int64\n",
      "Shape of X: (2293, 100)\n",
      "Shape of y: (2293, 1)\n",
      "Found 150 unique tokens.\n",
      "0    2857\n",
      "3    1160\n",
      "2     292\n",
      "1     241\n",
      "4      34\n",
      "Name: LABEL, dtype: int64\n",
      "Shape of X: (4584, 100)\n",
      "Shape of y: (4584, 1)\n"
     ]
    }
   ],
   "source": [
    "#====train set\n",
    "df_train = pd.concat([sp_train, n_train, g_train, p_train, s_train])\n",
    "df_train = df_train.sample(frac=1, random_state=39, replace=False)\n",
    "df_train['LABEL'] = 0\n",
    "\n",
    "#One-hot encoding\n",
    "df_train.loc[df_train['CATEGORY'] == '1 0 0 0', 'LABEL'] = 0\n",
    "df_train.loc[df_train['CATEGORY'] == '0 1 0 0', 'LABEL'] = 1\n",
    "df_train.loc[df_train['CATEGORY'] == '0 0 1 0', 'LABEL'] = 2\n",
    "df_train.loc[df_train['CATEGORY'] == '0 0 0 1', 'LABEL'] = 3\n",
    "df_train.loc[df_train['CATEGORY'] == '0 1 1 0', 'LABEL'] = 4\n",
    "\n",
    "X_train, y_train = dftoXY(df_train)\n",
    "\n",
    "print('Shape of X: {}'.format(X_train.shape))\n",
    "\n",
    "# for sm.fit_sample\n",
    "ytrain_labels = np.expand_dims(np.array(np.argmax(y_train, axis=1)), axis=1)\n",
    "print('Shape of y: {}'.format(ytrain_labels.shape))\n",
    "\n",
    "# ============ validation set ============\n",
    "df_val = pd.concat([sp_val, n_val, g_val, p_val, s_val])\n",
    "df_val = df_val.sample(frac=1, random_state=39, replace=False)\n",
    "\n",
    "df_val['LABEL'] = 0\n",
    "\n",
    "#One-hot encoding\n",
    "df_val.loc[df_val['CATEGORY'] == '1 0 0 0', 'LABEL'] = 0\n",
    "df_val.loc[df_val['CATEGORY'] == '0 1 0 0', 'LABEL'] = 1\n",
    "df_val.loc[df_val['CATEGORY'] == '0 0 1 0', 'LABEL'] = 2\n",
    "df_val.loc[df_val['CATEGORY'] == '0 0 0 1', 'LABEL'] = 3\n",
    "df_val.loc[df_val['CATEGORY'] == '0 1 1 0', 'LABEL'] = 4\n",
    "\n",
    "X_val, y_val = dftoXY(df_val)\n",
    "\n",
    "print('Shape of X: {}'.format(X_val.shape))\n",
    "\n",
    "# for sm.fit_sample\n",
    "yval_labels = np.expand_dims(np.array(np.argmax(y_val, axis=1)), axis=1)\n",
    "print('Shape of y: {}'.format(yval_labels.shape))\n",
    "\n",
    "# ============ test set ============\n",
    "df_test = pd.concat([sp_test, n_test, g_test, p_test, s_test])\n",
    "df_test = df_test.sample(frac=1, random_state=39, replace=False)\n",
    "\n",
    "df_test['LABEL'] = 0\n",
    "\n",
    "#One-hot encoding\n",
    "df_test.loc[df_test['CATEGORY'] == '1 0 0 0', 'LABEL'] = 0\n",
    "df_test.loc[df_test['CATEGORY'] == '0 1 0 0', 'LABEL'] = 1\n",
    "df_test.loc[df_test['CATEGORY'] == '0 0 1 0', 'LABEL'] = 2\n",
    "df_test.loc[df_test['CATEGORY'] == '0 0 0 1', 'LABEL'] = 3\n",
    "df_test.loc[df_test['CATEGORY'] == '0 1 1 0', 'LABEL'] = 4\n",
    "\n",
    "# df_train.head()\n",
    "\n",
    "X_test, y_test = dftoXY(df_test)\n",
    "\n",
    "print('Shape of X: {}'.format(X_test.shape))\n",
    "\n",
    "# for sm.fit_sample\n",
    "ytest_labels = np.expand_dims(np.array(np.argmax(y_test, axis=1)), axis=1)\n",
    "print('Shape of y: {}'.format(ytest_labels.shape))\n"
   ]
  },
  {
   "cell_type": "code",
   "execution_count": 9,
   "metadata": {},
   "outputs": [
    {
     "name": "stdout",
     "output_type": "stream",
     "text": [
      "Found 150 unique tokens.\n",
      "0    10000\n",
      "3     4061\n",
      "2     1023\n",
      "1      845\n",
      "4      120\n",
      "Name: LABEL, dtype: int64\n",
      "Shape of X: (16049, 100)\n",
      "Shape of y: (16049, 1)\n",
      "Found 150 unique tokens.\n",
      "0    1429\n",
      "3     580\n",
      "2     146\n",
      "1     121\n",
      "4      17\n",
      "Name: LABEL, dtype: int64\n",
      "Shape of X: (2293, 100)\n",
      "Shape of y: (2293, 1)\n",
      "Found 150 unique tokens.\n",
      "0    2857\n",
      "3    1160\n",
      "2     292\n",
      "1     241\n",
      "4      34\n",
      "Name: LABEL, dtype: int64\n",
      "Shape of X: (4584, 100)\n",
      "Shape of y: (4584, 1)\n"
     ]
    }
   ],
   "source": [
    "# train set\n",
    "X_train, ytrain_labels = XandY(sp_train, n_train, g_train, p_train, s_train)\n",
    "# validation set\n",
    "X_val, yval_labels = XandY(sp_val, n_val, g_val, p_val, s_val)\n",
    "# test set\n",
    "X_test, ytest_labels = XandY(sp_test, n_test, g_test, p_test, s_test)\n",
    "\n",
    "from imblearn.over_sampling import SMOTE\n",
    "\n",
    "sm = SMOTE(random_state=17)\n",
    "X_train_res, y_train_res = sm.fit_resample(X_train, ytrain_labels.ravel())\n",
    "X_val_res, y_val_res = sm.fit_resample(X_val, yval_labels.ravel())\n",
    "X_test_res, y_test_res = sm.fit_resample(X_test, ytest_labels.ravel())"
   ]
  },
  {
   "cell_type": "code",
   "execution_count": 10,
   "metadata": {},
   "outputs": [],
   "source": [
    "df = pd.DataFrame(np.concatenate([X_train_res, X_val_res, X_test_res]))\n",
    "y = pd.DataFrame(np.concatenate([y_train_res, y_val_res, y_test_res]))\n",
    "df_train, df_test, y_train, y_test = train_test_split(df, y, test_size=0.3, random_state=42)"
   ]
  },
  {
   "cell_type": "code",
   "execution_count": 11,
   "outputs": [
    {
     "data": {
      "text/plain": "       0   1   2   3   4   5   6   7   8   9   ...  90  91  92  93  94  95  \\\n63063   3   3  43   5   4   1  25   1  25   1  ...  26   2  26  12  59   9   \n40480   8   3   1   8  30   7  16  20  11   1  ...   3   6  18   6  34  21   \n55539  15   5   3   9  19  11  33  17   6  17  ...   2   3  12   5   1   1   \n40003   0   0   0   0   0   0   0   0   0   0  ...  27   2   3   1  18   6   \n9232    1   1  15   1   8  11   1  15  20   1  ...   2  64   6   3   3   3   \n...    ..  ..  ..  ..  ..  ..  ..  ..  ..  ..  ...  ..  ..  ..  ..  ..  ..   \n47786  18   1  35   9  29  41   1  31   1  12  ...   3  25  12   3   3  17   \n68728   8   7  11   1   7   2   7  11   1   8  ...   1  13   6  12  14   1   \n48132  22   1   4  15  12   4   9   1   1  15  ...  13   1   8  13   2   1   \n14125   4  10   1   5  31   6  21   2   3   5  ...   3   3  14  14  51  57   \n62737  11  34   5  27   3  14   8   3   1  17  ...  28  13  21  17  60  25   \n\n        96  97  98   99  \n63063    1  12   6   43  \n40480    9  73   6   18  \n55539    3  14   5   17  \n40003   13   2   3   18  \n9232     3  18   6   14  \n...    ...  ..  ..  ...  \n47786    6   3   2   18  \n68728   62   3   3   19  \n48132    8   2   4   18  \n14125   29  12  93   14  \n62737  133  96  69  124  \n\n[21429 rows x 100 columns]",
      "text/html": "<div>\n<style scoped>\n    .dataframe tbody tr th:only-of-type {\n        vertical-align: middle;\n    }\n\n    .dataframe tbody tr th {\n        vertical-align: top;\n    }\n\n    .dataframe thead th {\n        text-align: right;\n    }\n</style>\n<table border=\"1\" class=\"dataframe\">\n  <thead>\n    <tr style=\"text-align: right;\">\n      <th></th>\n      <th>0</th>\n      <th>1</th>\n      <th>2</th>\n      <th>3</th>\n      <th>4</th>\n      <th>5</th>\n      <th>6</th>\n      <th>7</th>\n      <th>8</th>\n      <th>9</th>\n      <th>...</th>\n      <th>90</th>\n      <th>91</th>\n      <th>92</th>\n      <th>93</th>\n      <th>94</th>\n      <th>95</th>\n      <th>96</th>\n      <th>97</th>\n      <th>98</th>\n      <th>99</th>\n    </tr>\n  </thead>\n  <tbody>\n    <tr>\n      <th>63063</th>\n      <td>3</td>\n      <td>3</td>\n      <td>43</td>\n      <td>5</td>\n      <td>4</td>\n      <td>1</td>\n      <td>25</td>\n      <td>1</td>\n      <td>25</td>\n      <td>1</td>\n      <td>...</td>\n      <td>26</td>\n      <td>2</td>\n      <td>26</td>\n      <td>12</td>\n      <td>59</td>\n      <td>9</td>\n      <td>1</td>\n      <td>12</td>\n      <td>6</td>\n      <td>43</td>\n    </tr>\n    <tr>\n      <th>40480</th>\n      <td>8</td>\n      <td>3</td>\n      <td>1</td>\n      <td>8</td>\n      <td>30</td>\n      <td>7</td>\n      <td>16</td>\n      <td>20</td>\n      <td>11</td>\n      <td>1</td>\n      <td>...</td>\n      <td>3</td>\n      <td>6</td>\n      <td>18</td>\n      <td>6</td>\n      <td>34</td>\n      <td>21</td>\n      <td>9</td>\n      <td>73</td>\n      <td>6</td>\n      <td>18</td>\n    </tr>\n    <tr>\n      <th>55539</th>\n      <td>15</td>\n      <td>5</td>\n      <td>3</td>\n      <td>9</td>\n      <td>19</td>\n      <td>11</td>\n      <td>33</td>\n      <td>17</td>\n      <td>6</td>\n      <td>17</td>\n      <td>...</td>\n      <td>2</td>\n      <td>3</td>\n      <td>12</td>\n      <td>5</td>\n      <td>1</td>\n      <td>1</td>\n      <td>3</td>\n      <td>14</td>\n      <td>5</td>\n      <td>17</td>\n    </tr>\n    <tr>\n      <th>40003</th>\n      <td>0</td>\n      <td>0</td>\n      <td>0</td>\n      <td>0</td>\n      <td>0</td>\n      <td>0</td>\n      <td>0</td>\n      <td>0</td>\n      <td>0</td>\n      <td>0</td>\n      <td>...</td>\n      <td>27</td>\n      <td>2</td>\n      <td>3</td>\n      <td>1</td>\n      <td>18</td>\n      <td>6</td>\n      <td>13</td>\n      <td>2</td>\n      <td>3</td>\n      <td>18</td>\n    </tr>\n    <tr>\n      <th>9232</th>\n      <td>1</td>\n      <td>1</td>\n      <td>15</td>\n      <td>1</td>\n      <td>8</td>\n      <td>11</td>\n      <td>1</td>\n      <td>15</td>\n      <td>20</td>\n      <td>1</td>\n      <td>...</td>\n      <td>2</td>\n      <td>64</td>\n      <td>6</td>\n      <td>3</td>\n      <td>3</td>\n      <td>3</td>\n      <td>3</td>\n      <td>18</td>\n      <td>6</td>\n      <td>14</td>\n    </tr>\n    <tr>\n      <th>...</th>\n      <td>...</td>\n      <td>...</td>\n      <td>...</td>\n      <td>...</td>\n      <td>...</td>\n      <td>...</td>\n      <td>...</td>\n      <td>...</td>\n      <td>...</td>\n      <td>...</td>\n      <td>...</td>\n      <td>...</td>\n      <td>...</td>\n      <td>...</td>\n      <td>...</td>\n      <td>...</td>\n      <td>...</td>\n      <td>...</td>\n      <td>...</td>\n      <td>...</td>\n      <td>...</td>\n    </tr>\n    <tr>\n      <th>47786</th>\n      <td>18</td>\n      <td>1</td>\n      <td>35</td>\n      <td>9</td>\n      <td>29</td>\n      <td>41</td>\n      <td>1</td>\n      <td>31</td>\n      <td>1</td>\n      <td>12</td>\n      <td>...</td>\n      <td>3</td>\n      <td>25</td>\n      <td>12</td>\n      <td>3</td>\n      <td>3</td>\n      <td>17</td>\n      <td>6</td>\n      <td>3</td>\n      <td>2</td>\n      <td>18</td>\n    </tr>\n    <tr>\n      <th>68728</th>\n      <td>8</td>\n      <td>7</td>\n      <td>11</td>\n      <td>1</td>\n      <td>7</td>\n      <td>2</td>\n      <td>7</td>\n      <td>11</td>\n      <td>1</td>\n      <td>8</td>\n      <td>...</td>\n      <td>1</td>\n      <td>13</td>\n      <td>6</td>\n      <td>12</td>\n      <td>14</td>\n      <td>1</td>\n      <td>62</td>\n      <td>3</td>\n      <td>3</td>\n      <td>19</td>\n    </tr>\n    <tr>\n      <th>48132</th>\n      <td>22</td>\n      <td>1</td>\n      <td>4</td>\n      <td>15</td>\n      <td>12</td>\n      <td>4</td>\n      <td>9</td>\n      <td>1</td>\n      <td>1</td>\n      <td>15</td>\n      <td>...</td>\n      <td>13</td>\n      <td>1</td>\n      <td>8</td>\n      <td>13</td>\n      <td>2</td>\n      <td>1</td>\n      <td>8</td>\n      <td>2</td>\n      <td>4</td>\n      <td>18</td>\n    </tr>\n    <tr>\n      <th>14125</th>\n      <td>4</td>\n      <td>10</td>\n      <td>1</td>\n      <td>5</td>\n      <td>31</td>\n      <td>6</td>\n      <td>21</td>\n      <td>2</td>\n      <td>3</td>\n      <td>5</td>\n      <td>...</td>\n      <td>3</td>\n      <td>3</td>\n      <td>14</td>\n      <td>14</td>\n      <td>51</td>\n      <td>57</td>\n      <td>29</td>\n      <td>12</td>\n      <td>93</td>\n      <td>14</td>\n    </tr>\n    <tr>\n      <th>62737</th>\n      <td>11</td>\n      <td>34</td>\n      <td>5</td>\n      <td>27</td>\n      <td>3</td>\n      <td>14</td>\n      <td>8</td>\n      <td>3</td>\n      <td>1</td>\n      <td>17</td>\n      <td>...</td>\n      <td>28</td>\n      <td>13</td>\n      <td>21</td>\n      <td>17</td>\n      <td>60</td>\n      <td>25</td>\n      <td>133</td>\n      <td>96</td>\n      <td>69</td>\n      <td>124</td>\n    </tr>\n  </tbody>\n</table>\n<p>21429 rows × 100 columns</p>\n</div>"
     },
     "execution_count": 11,
     "metadata": {},
     "output_type": "execute_result"
    }
   ],
   "source": [
    "df_test"
   ],
   "metadata": {
    "collapsed": false
   }
  },
  {
   "cell_type": "code",
   "execution_count": 12,
   "metadata": {},
   "outputs": [
    {
     "name": "stderr",
     "output_type": "stream",
     "text": [
      "C:\\Users\\amezina\\anaconda3\\envs\\tf210\\lib\\site-packages\\sklearn\\base.py:318: UserWarning: Trying to unpickle estimator KNeighborsClassifier from version 1.1.3 when using version 1.2.2. This might lead to breaking code or invalid results. Use at your own risk. For more info please refer to:\n",
      "https://scikit-learn.org/stable/model_persistence.html#security-maintainability-limitations\n",
      "  warnings.warn(\n",
      "C:\\Users\\amezina\\anaconda3\\envs\\tf210\\lib\\site-packages\\sklearn\\base.py:318: UserWarning: Trying to unpickle estimator RandomizedSearchCV from version 1.1.3 when using version 1.2.2. This might lead to breaking code or invalid results. Use at your own risk. For more info please refer to:\n",
      "https://scikit-learn.org/stable/model_persistence.html#security-maintainability-limitations\n",
      "  warnings.warn(\n"
     ]
    }
   ],
   "source": [
    "import joblib\n",
    "\n",
    "loaded_model = joblib.load(\"outputs_2/KNeighborsClassifier.joblib\")\n",
    "result = loaded_model.predict(df_test)"
   ]
  },
  {
   "cell_type": "code",
   "execution_count": 13,
   "metadata": {},
   "outputs": [],
   "source": [
    "filtered_df = df_test.copy()\n",
    "\n",
    "filtered_df[\"label\"] = y_test\n",
    "filtered_df[\"predicted\"] = result\n",
    "\n",
    "filtered_df = filtered_df[filtered_df['predicted'] != 0]"
   ]
  },
  {
   "cell_type": "code",
   "execution_count": 14,
   "outputs": [
    {
     "data": {
      "text/plain": "        0   1   2   3   4   5   6   7   8   9  ...  92  93  94  95   96  97  \\\n63063   3   3  43   5   4   1  25   1  25   1  ...  26  12  59   9    1  12   \n40480   8   3   1   8  30   7  16  20  11   1  ...  18   6  34  21    9  73   \n55539  15   5   3   9  19  11  33  17   6  17  ...  12   5   1   1    3  14   \n40003   0   0   0   0   0   0   0   0   0   0  ...   3   1  18   6   13   2   \n20602  80   3   3   3   3   3   3   3   3   3  ...   2  13  26  37   50  59   \n...    ..  ..  ..  ..  ..  ..  ..  ..  ..  ..  ...  ..  ..  ..  ..  ...  ..   \n15271  66   2  11   2   7   8  40   2  11   1  ...   3   3   3   3    3   3   \n32485   1   8   5  20  21   9   7  11   1   8  ...   3   3   3   3    6   3   \n47786  18   1  35   9  29  41   1  31   1  12  ...  12   3   3  17    6   3   \n48132  22   1   4  15  12   4   9   1   1  15  ...   8  13   2   1    8   2   \n62737  11  34   5  27   3  14   8   3   1  17  ...  21  17  60  25  133  96   \n\n       98   99  label  predicted  \n63063   6   43      1          1  \n40480   6   18      4          1  \n55539   5   17      3          1  \n40003   3   18      3          1  \n20602  61   18      1          1  \n...    ..  ...    ...        ...  \n15271   3   18      1          1  \n32485   3   18      2          1  \n47786   2   18      4          1  \n48132   4   18      4          1  \n62737  69  124      1          1  \n\n[16930 rows x 102 columns]",
      "text/html": "<div>\n<style scoped>\n    .dataframe tbody tr th:only-of-type {\n        vertical-align: middle;\n    }\n\n    .dataframe tbody tr th {\n        vertical-align: top;\n    }\n\n    .dataframe thead th {\n        text-align: right;\n    }\n</style>\n<table border=\"1\" class=\"dataframe\">\n  <thead>\n    <tr style=\"text-align: right;\">\n      <th></th>\n      <th>0</th>\n      <th>1</th>\n      <th>2</th>\n      <th>3</th>\n      <th>4</th>\n      <th>5</th>\n      <th>6</th>\n      <th>7</th>\n      <th>8</th>\n      <th>9</th>\n      <th>...</th>\n      <th>92</th>\n      <th>93</th>\n      <th>94</th>\n      <th>95</th>\n      <th>96</th>\n      <th>97</th>\n      <th>98</th>\n      <th>99</th>\n      <th>label</th>\n      <th>predicted</th>\n    </tr>\n  </thead>\n  <tbody>\n    <tr>\n      <th>63063</th>\n      <td>3</td>\n      <td>3</td>\n      <td>43</td>\n      <td>5</td>\n      <td>4</td>\n      <td>1</td>\n      <td>25</td>\n      <td>1</td>\n      <td>25</td>\n      <td>1</td>\n      <td>...</td>\n      <td>26</td>\n      <td>12</td>\n      <td>59</td>\n      <td>9</td>\n      <td>1</td>\n      <td>12</td>\n      <td>6</td>\n      <td>43</td>\n      <td>1</td>\n      <td>1</td>\n    </tr>\n    <tr>\n      <th>40480</th>\n      <td>8</td>\n      <td>3</td>\n      <td>1</td>\n      <td>8</td>\n      <td>30</td>\n      <td>7</td>\n      <td>16</td>\n      <td>20</td>\n      <td>11</td>\n      <td>1</td>\n      <td>...</td>\n      <td>18</td>\n      <td>6</td>\n      <td>34</td>\n      <td>21</td>\n      <td>9</td>\n      <td>73</td>\n      <td>6</td>\n      <td>18</td>\n      <td>4</td>\n      <td>1</td>\n    </tr>\n    <tr>\n      <th>55539</th>\n      <td>15</td>\n      <td>5</td>\n      <td>3</td>\n      <td>9</td>\n      <td>19</td>\n      <td>11</td>\n      <td>33</td>\n      <td>17</td>\n      <td>6</td>\n      <td>17</td>\n      <td>...</td>\n      <td>12</td>\n      <td>5</td>\n      <td>1</td>\n      <td>1</td>\n      <td>3</td>\n      <td>14</td>\n      <td>5</td>\n      <td>17</td>\n      <td>3</td>\n      <td>1</td>\n    </tr>\n    <tr>\n      <th>40003</th>\n      <td>0</td>\n      <td>0</td>\n      <td>0</td>\n      <td>0</td>\n      <td>0</td>\n      <td>0</td>\n      <td>0</td>\n      <td>0</td>\n      <td>0</td>\n      <td>0</td>\n      <td>...</td>\n      <td>3</td>\n      <td>1</td>\n      <td>18</td>\n      <td>6</td>\n      <td>13</td>\n      <td>2</td>\n      <td>3</td>\n      <td>18</td>\n      <td>3</td>\n      <td>1</td>\n    </tr>\n    <tr>\n      <th>20602</th>\n      <td>80</td>\n      <td>3</td>\n      <td>3</td>\n      <td>3</td>\n      <td>3</td>\n      <td>3</td>\n      <td>3</td>\n      <td>3</td>\n      <td>3</td>\n      <td>3</td>\n      <td>...</td>\n      <td>2</td>\n      <td>13</td>\n      <td>26</td>\n      <td>37</td>\n      <td>50</td>\n      <td>59</td>\n      <td>61</td>\n      <td>18</td>\n      <td>1</td>\n      <td>1</td>\n    </tr>\n    <tr>\n      <th>...</th>\n      <td>...</td>\n      <td>...</td>\n      <td>...</td>\n      <td>...</td>\n      <td>...</td>\n      <td>...</td>\n      <td>...</td>\n      <td>...</td>\n      <td>...</td>\n      <td>...</td>\n      <td>...</td>\n      <td>...</td>\n      <td>...</td>\n      <td>...</td>\n      <td>...</td>\n      <td>...</td>\n      <td>...</td>\n      <td>...</td>\n      <td>...</td>\n      <td>...</td>\n      <td>...</td>\n    </tr>\n    <tr>\n      <th>15271</th>\n      <td>66</td>\n      <td>2</td>\n      <td>11</td>\n      <td>2</td>\n      <td>7</td>\n      <td>8</td>\n      <td>40</td>\n      <td>2</td>\n      <td>11</td>\n      <td>1</td>\n      <td>...</td>\n      <td>3</td>\n      <td>3</td>\n      <td>3</td>\n      <td>3</td>\n      <td>3</td>\n      <td>3</td>\n      <td>3</td>\n      <td>18</td>\n      <td>1</td>\n      <td>1</td>\n    </tr>\n    <tr>\n      <th>32485</th>\n      <td>1</td>\n      <td>8</td>\n      <td>5</td>\n      <td>20</td>\n      <td>21</td>\n      <td>9</td>\n      <td>7</td>\n      <td>11</td>\n      <td>1</td>\n      <td>8</td>\n      <td>...</td>\n      <td>3</td>\n      <td>3</td>\n      <td>3</td>\n      <td>3</td>\n      <td>6</td>\n      <td>3</td>\n      <td>3</td>\n      <td>18</td>\n      <td>2</td>\n      <td>1</td>\n    </tr>\n    <tr>\n      <th>47786</th>\n      <td>18</td>\n      <td>1</td>\n      <td>35</td>\n      <td>9</td>\n      <td>29</td>\n      <td>41</td>\n      <td>1</td>\n      <td>31</td>\n      <td>1</td>\n      <td>12</td>\n      <td>...</td>\n      <td>12</td>\n      <td>3</td>\n      <td>3</td>\n      <td>17</td>\n      <td>6</td>\n      <td>3</td>\n      <td>2</td>\n      <td>18</td>\n      <td>4</td>\n      <td>1</td>\n    </tr>\n    <tr>\n      <th>48132</th>\n      <td>22</td>\n      <td>1</td>\n      <td>4</td>\n      <td>15</td>\n      <td>12</td>\n      <td>4</td>\n      <td>9</td>\n      <td>1</td>\n      <td>1</td>\n      <td>15</td>\n      <td>...</td>\n      <td>8</td>\n      <td>13</td>\n      <td>2</td>\n      <td>1</td>\n      <td>8</td>\n      <td>2</td>\n      <td>4</td>\n      <td>18</td>\n      <td>4</td>\n      <td>1</td>\n    </tr>\n    <tr>\n      <th>62737</th>\n      <td>11</td>\n      <td>34</td>\n      <td>5</td>\n      <td>27</td>\n      <td>3</td>\n      <td>14</td>\n      <td>8</td>\n      <td>3</td>\n      <td>1</td>\n      <td>17</td>\n      <td>...</td>\n      <td>21</td>\n      <td>17</td>\n      <td>60</td>\n      <td>25</td>\n      <td>133</td>\n      <td>96</td>\n      <td>69</td>\n      <td>124</td>\n      <td>1</td>\n      <td>1</td>\n    </tr>\n  </tbody>\n</table>\n<p>16930 rows × 102 columns</p>\n</div>"
     },
     "execution_count": 14,
     "metadata": {},
     "output_type": "execute_result"
    }
   ],
   "source": [
    "filtered_df"
   ],
   "metadata": {
    "collapsed": false
   }
  },
  {
   "cell_type": "code",
   "execution_count": 15,
   "metadata": {},
   "outputs": [],
   "source": [
    "df_test_2 = filtered_df.drop(columns=[\"label\", \"predicted\"])\n",
    "y_test_2 = filtered_df[\"label\"]"
   ]
  },
  {
   "cell_type": "code",
   "execution_count": 16,
   "metadata": {},
   "outputs": [
    {
     "name": "stderr",
     "output_type": "stream",
     "text": [
      "C:\\Users\\amezina\\anaconda3\\envs\\tf210\\lib\\site-packages\\sklearn\\base.py:318: UserWarning: Trying to unpickle estimator SVC from version 1.1.3 when using version 1.2.2. This might lead to breaking code or invalid results. Use at your own risk. For more info please refer to:\n",
      "https://scikit-learn.org/stable/model_persistence.html#security-maintainability-limitations\n",
      "  warnings.warn(\n",
      "C:\\Users\\amezina\\anaconda3\\envs\\tf210\\lib\\site-packages\\sklearn\\base.py:318: UserWarning: Trying to unpickle estimator RandomizedSearchCV from version 1.1.3 when using version 1.2.2. This might lead to breaking code or invalid results. Use at your own risk. For more info please refer to:\n",
      "https://scikit-learn.org/stable/model_persistence.html#security-maintainability-limitations\n",
      "  warnings.warn(\n"
     ]
    }
   ],
   "source": [
    "import joblib\n",
    "\n",
    "loaded_model = joblib.load(\"outputs_4/SVC.joblib\")\n",
    "result_2 = loaded_model.predict(df_test_2)"
   ]
  },
  {
   "cell_type": "code",
   "execution_count": 17,
   "metadata": {},
   "outputs": [],
   "source": [
    "from sklearn.metrics import f1_score, precision_score, recall_score, balanced_accuracy_score, roc_auc_score\n",
    "\n",
    "\n",
    "def accuracies(y_pred, y_test):\n",
    "    y_test = y_test.reset_index(drop=True)\n",
    "    # y_pred = y_pred.to_numpy()\n",
    "    normal_correct = 0\n",
    "    suicidal_correct = 0\n",
    "    prodigal_correct = 0\n",
    "    greedy_correct = 0\n",
    "    suicidal_prodigal_correct = 0\n",
    "\n",
    "    normal_quantity = 0\n",
    "    suicidal_quantity = 0\n",
    "    prodigal_quantity = 0\n",
    "    greedy_quantity = 0\n",
    "    suicidal_prodigal_quantity = 0\n",
    "    false_negative = 0\n",
    "\n",
    "    for i in range(0, len(y_test)):\n",
    "        if y_pred[i] == y_test[i] and y_test[i] == 0:\n",
    "            normal_correct = normal_correct + 1\n",
    "        if y_pred[i] == y_test[i] and y_test[i] == 1:\n",
    "            suicidal_correct = suicidal_correct + 1\n",
    "        if y_pred[i] == y_test[i] and y_test[i] == 2:\n",
    "            prodigal_correct = prodigal_correct + 1\n",
    "        if y_pred[i] == y_test[i] and y_test[i] == 3:\n",
    "            greedy_correct = greedy_correct + 1\n",
    "        if y_pred[i] == y_test[i] and y_test[i] == 4:\n",
    "            suicidal_prodigal_correct = suicidal_prodigal_correct + 1\n",
    "\n",
    "        if y_test[i] == 0:\n",
    "            normal_quantity = normal_quantity + 1\n",
    "        if y_test[i] == 1:\n",
    "            suicidal_quantity = suicidal_quantity + 1\n",
    "        if y_test[i] == 2:\n",
    "            prodigal_quantity = prodigal_quantity + 1\n",
    "        if y_test[i] == 3:\n",
    "            greedy_quantity = greedy_quantity + 1\n",
    "        if y_test[i] == 4:\n",
    "            suicidal_prodigal_quantity = suicidal_prodigal_quantity + 1\n",
    "\n",
    "        if y_test[i] != 0 and y_pred[i] == 0:\n",
    "            false_negative = false_negative + 1\n",
    "\n",
    "    # print('normal accuracy:', normal_correct / normal_quantity)\n",
    "    print('suicidal accuracy:', suicidal_correct / suicidal_quantity)\n",
    "    print('prodigal accuracy:', prodigal_correct / prodigal_quantity)\n",
    "    print('greedy accuracy:', greedy_correct / greedy_quantity)\n",
    "    print('suicidal and prodigal accuracy', suicidal_prodigal_correct / suicidal_prodigal_quantity)\n",
    "    print(normal_quantity, suicidal_quantity, prodigal_quantity, greedy_quantity, suicidal_prodigal_quantity)\n",
    "\n",
    "    print('false negative:', false_negative / (\n",
    "            suicidal_quantity + prodigal_quantity + greedy_quantity + suicidal_prodigal_quantity))"
   ]
  },
  {
   "cell_type": "code",
   "execution_count": 18,
   "metadata": {},
   "outputs": [
    {
     "name": "stdout",
     "output_type": "stream",
     "text": [
      "suicidal accuracy: 0.9988165680473373\n",
      "prodigal accuracy: 0.9943000455996353\n",
      "greedy accuracy: 0.9927553166627717\n",
      "suicidal and prodigal accuracy 0.9987415051598288\n",
      "67 4225 4386 4279 3973\n",
      "false negative: 0.0\n"
     ]
    },
    {
     "data": {
      "text/plain": "<Figure size 1200x1200 with 2 Axes>",
      "image/png": "[encoded data removed]"
     },
     "metadata": {},
     "output_type": "display_data"
    },
    {
     "name": "stderr",
     "output_type": "stream",
     "text": [
      "C:\\Users\\amezina\\anaconda3\\envs\\tf210\\lib\\site-packages\\sklearn\\metrics\\_classification.py:1344: UndefinedMetricWarning: Precision is ill-defined and being set to 0.0 in labels with no predicted samples. Use `zero_division` parameter to control this behavior.\n",
      "  _warn_prf(average, modifier, msg_start, len(result))\n"
     ]
    }
   ],
   "source": [
    "from joblib import dump\n",
    "from sklearn.model_selection import RandomizedSearchCV\n",
    "from sklearn.metrics import confusion_matrix\n",
    "import seaborn as sns\n",
    "\n",
    "accuracies(result_2, y_test_2)\n",
    "cm = confusion_matrix(y_test_2, result_2)\n",
    "x_axis_labels = [\"normal\", \"suicidal\", \"prodigal\", \"greedy\", \"suicidal and prodigal\"]\n",
    "# Plot confusion matrix\n",
    "plt.figure(figsize=(12, 12))\n",
    "ax = sns.heatmap(cm, annot=True, xticklabels=x_axis_labels, yticklabels=x_axis_labels, fmt=\"g\", linewidths=.5, square=True, cmap='Blues_r', annot_kws={\"size\": 16})\n",
    "cbar = ax.collections[0].colorbar\n",
    "cbar.ax.tick_params(labelsize=16)\n",
    "plt.xticks(fontsize=16)\n",
    "plt.yticks(fontsize=16)\n",
    "plt.ylabel('Actual label', fontsize=16, labelpad=15)\n",
    "plt.xlabel('Predicted label', fontsize=16, labelpad=15)\n",
    "plt.savefig(f'confmatrix_2_scenario.pdf')\n",
    "plt.show()\n",
    "report = pd.DataFrame(columns=['Accuracy'], data=[0])\n",
    "report['F1'] = f1_score(y_test_2, result_2, average=\"weighted\")\n",
    "report['Precision'] = precision_score(y_test_2, result_2, average=\"weighted\")\n",
    "report['Recall'] = recall_score(y_test_2, result_2, average=\"weighted\")\n",
    "report['Accuracy'] = loaded_model.score(df_test_2, y_test_2)\n",
    "report['Balanced Acc'] = balanced_accuracy_score(y_test_2, result_2)"
   ]
  },
  {
   "cell_type": "code",
   "execution_count": 19,
   "metadata": {},
   "outputs": [
    {
     "data": {
      "text/plain": "   Accuracy        F1  Precision    Recall  Balanced Acc\n0  0.992144  0.990189   0.988255  0.992144      0.796923",
      "text/html": "<div>\n<style scoped>\n    .dataframe tbody tr th:only-of-type {\n        vertical-align: middle;\n    }\n\n    .dataframe tbody tr th {\n        vertical-align: top;\n    }\n\n    .dataframe thead th {\n        text-align: right;\n    }\n</style>\n<table border=\"1\" class=\"dataframe\">\n  <thead>\n    <tr style=\"text-align: right;\">\n      <th></th>\n      <th>Accuracy</th>\n      <th>F1</th>\n      <th>Precision</th>\n      <th>Recall</th>\n      <th>Balanced Acc</th>\n    </tr>\n  </thead>\n  <tbody>\n    <tr>\n      <th>0</th>\n      <td>0.992144</td>\n      <td>0.990189</td>\n      <td>0.988255</td>\n      <td>0.992144</td>\n      <td>0.796923</td>\n    </tr>\n  </tbody>\n</table>\n</div>"
     },
     "execution_count": 19,
     "metadata": {},
     "output_type": "execute_result"
    }
   ],
   "source": [
    "report"
   ]
  }
 ],
 "metadata": {
  "kernelspec": {
   "display_name": "Python 3 (ipykernel)",
   "language": "python",
   "name": "python3"
  },
  "language_info": {
   "codemirror_mode": {
    "name": "ipython",
    "version": 3
   },
   "file_extension": ".py",
   "mimetype": "text/x-python",
   "name": "python",
   "nbconvert_exporter": "python",
   "pygments_lexer": "ipython3",
   "version": "3.8.0"
  }
 },
 "nbformat": 4,
 "nbformat_minor": 1
}
